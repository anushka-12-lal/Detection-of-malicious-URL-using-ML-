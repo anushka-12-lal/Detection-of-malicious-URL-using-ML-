{
 "cells": [
  {
   "cell_type": "code",
   "execution_count": 1,
   "metadata": {},
   "outputs": [
    {
     "name": "stdout",
     "output_type": "stream",
     "text": [
      "\n",
      "### Libraries Imported ###\n",
      "\n"
     ]
    }
   ],
   "source": [
    "import pandas as pd\n",
    "import numpy as np\n",
    "import matplotlib.pyplot as plt\n",
    "import random\n",
    "import re\n",
    "\n",
    "%matplotlib inline\n",
    "\n",
    "# Import Scikit-learn helper functions\n",
    "from sklearn.model_selection import train_test_split\n",
    "from sklearn.model_selection import cross_val_score\n",
    "from sklearn.model_selection import StratifiedKFold\n",
    "from sklearn.feature_extraction.text import TfidfVectorizer, CountVectorizer\n",
    "\n",
    "# Import Scikit-learn models\n",
    "from sklearn.linear_model import LogisticRegression\n",
    "from sklearn.tree import DecisionTreeClassifier\n",
    "from sklearn.naive_bayes import MultinomialNB\n",
    "from sklearn.naive_bayes import GaussianNB\n",
    "from sklearn.svm import SVC\n",
    "from sklearn.neighbors import KNeighborsClassifier\n",
    "from sklearn.ensemble import RandomForestClassifier\n",
    "from sklearn.discriminant_analysis import LinearDiscriminantAnalysis\n",
    "\n",
    "# Import Scikit-learn metric functions\n",
    "from sklearn.metrics import accuracy_score, confusion_matrix, classification_report\n",
    "import seaborn as sns\n",
    "\n",
    "\n",
    "print(\"\\n### Libraries Imported ###\\n\")"
   ]
  },
  {
   "cell_type": "code",
   "execution_count": 2,
   "metadata": {},
   "outputs": [
    {
     "name": "stdout",
     "output_type": "stream",
     "text": [
      "###Tokenizer created###\n"
     ]
    }
   ],
   "source": [
    "from nltk.corpus import stopwords \n",
    "\n",
    "\n",
    "def tokenizer(web):     # tokenizing method\n",
    "    web = web.lower()\n",
    "    token = []\n",
    "    dot_token_slash = []\n",
    "    raw_slash = str(web).split('/')\n",
    "    for i in raw_slash:\n",
    "        raw1 = str(i).split('-')            # removing slash to get token\n",
    "        slash_token = []\n",
    "        equal_token =[]\n",
    "        for j in range(0,len(raw1)):\n",
    "            raw2 = str(raw1[j]).split('.')  # removing dot to get the tokens\n",
    "            slash_token = slash_token + raw2\n",
    "            for k in range(0,len(raw2)):\n",
    "                raw3 = str(raw2[k]).split('=')  # removing equal sign to get the tokens\n",
    "                equal_token = equal_token + raw3\n",
    "            dot_token_slash = dot_token_slash + raw1 + slash_token + equal_token # all tokens\n",
    "    token = list(set(dot_token_slash))      # to remove same words  \n",
    "    if 'com' in token:\n",
    "        token.remove('com')                 # remove com\n",
    "    \n",
    "    stop_words = set(stopwords.words('english'))   \n",
    "       \n",
    "    filtered_sentence = [w for w in token if not w in stop_words] \n",
    "  \n",
    "    filtered_sentence = [] \n",
    "  \n",
    "    for w in token: \n",
    "        if w not in stop_words: \n",
    "            filtered_sentence.append(w)\n",
    "    return filtered_sentence\n",
    "\n",
    "print(\"###Tokenizer created###\")"
   ]
  },
  {
   "cell_type": "code",
   "execution_count": 3,
   "metadata": {},
   "outputs": [
    {
     "name": "stdout",
     "output_type": "stream",
     "text": [
      "- Loading CSV Data -\n",
      "\n",
      "### CSV Data Loaded ###\n",
      "\n"
     ]
    }
   ],
   "source": [
    "# Load the training data\n",
    "print(\"- Loading CSV Data -\")\n",
    "url_csv = pd.read_csv(\"URL.csv\")\n",
    "\n",
    "url_df = pd.DataFrame(url_csv)             # to convert into data frames                                                                                  \n",
    "url_df = np.array(url_df)                  # to convert into array   \n",
    "random.shuffle(url_df)\n",
    "y = [i[1] for i in url_df]                 # all labels\n",
    "urls = [i[0] for i in url_df]              # all urls corresponding to a label {G/B}\n",
    "\n",
    "\n",
    "\n",
    "print(\"\\n### CSV Data Loaded ###\\n\")"
   ]
  },
  {
   "cell_type": "code",
   "execution_count": 4,
   "metadata": {},
   "outputs": [
    {
     "name": "stdout",
     "output_type": "stream",
     "text": [
      "                            url   label\n",
      "count                    420464  420464\n",
      "unique                   411247       2\n",
      "top     103.234.36.75/rd927.exe    good\n",
      "freq                         27  344821\n"
     ]
    }
   ],
   "source": [
    "print(url_csv.describe())"
   ]
  },
  {
   "cell_type": "code",
   "execution_count": 5,
   "metadata": {},
   "outputs": [
    {
     "name": "stdout",
     "output_type": "stream",
     "text": [
      "[['diaryofagameaddict.com' 'bad']\n",
      " ['espdesign.com.au' 'bad']\n",
      " ['espdesign.com.au' 'bad']\n",
      " ...\n",
      " ['emusic.com/album/Rene-Angela-Classic-Masters-MP3-Download/12537472.html'\n",
      "  'good']\n",
      " ['greekchat.com/gcforums/showthread.php?p=1597030' 'good']\n",
      " ['ircs.upenn.edu/pinkel/lectures/koch/index.shtml' 'good']]\n"
     ]
    }
   ],
   "source": [
    "print(url_df)"
   ]
  },
  {
   "cell_type": "code",
   "execution_count": 6,
   "metadata": {},
   "outputs": [
    {
     "name": "stdout",
     "output_type": "stream",
     "text": [
      "###Vectorization complete###\n"
     ]
    }
   ],
   "source": [
    "# Vectorizing\n",
    "test_percentage = 0.2\n",
    "x = url_df[:,:1]\n",
    "y = url_df[:,1]\n",
    "vectorizer_tf = TfidfVectorizer(tokenizer=tokenizer)  # term-frequency and inverse-document-frequency\n",
    "res = vectorizer_tf.fit_transform(urls)\n",
    "\n",
    "print(\"###Vectorization complete###\")"
   ]
  },
  {
   "cell_type": "code",
   "execution_count": 7,
   "metadata": {},
   "outputs": [
    {
     "name": "stdout",
     "output_type": "stream",
     "text": [
      "\n",
      "### Report Generator Defined ###\n",
      "\n"
     ]
    }
   ],
   "source": [
    "def generate_report(cmatrix, score, creport):\n",
    "  \"\"\"Generates and displays graphical reports\n",
    "  Keyword arguments:\n",
    "    cmatrix - Confusion matrix generated by the model\n",
    "    score --- Score generated by the model\n",
    "    creport - Classification Report generated by the model\n",
    "    \n",
    "  :Returns -- N/A\n",
    "  \"\"\"\n",
    "  \n",
    "  # Transform cmatrix because Sklearn has pred as columns and actual as rows.\n",
    "  cmatrix = cmatrix.T\n",
    "  \n",
    "  # Generate confusion matrix heatmap\n",
    "  plt.figure(figsize=(5,5))\n",
    "  sns.heatmap(cmatrix, \n",
    "              annot=True, \n",
    "              fmt=\"d\", \n",
    "              linewidths=.5, \n",
    "              square = True, \n",
    "              cmap = 'Blues', \n",
    "              annot_kws={\"size\": 16}, \n",
    "              xticklabels=['bad', 'good'],\n",
    "              yticklabels=['bad', 'good'])\n",
    "\n",
    "  plt.xticks(rotation='horizontal', fontsize=16)\n",
    "  plt.yticks(rotation='horizontal', fontsize=16)\n",
    "  plt.xlabel('Actual Label', size=20);\n",
    "  plt.ylabel('Predicted Label', size=20);\n",
    "\n",
    "  title = 'Accuracy Score: {0:.4f}'.format(score)\n",
    "  plt.title(title, size = 20);\n",
    "\n",
    "  # Display classification report and confusion matrix\n",
    "  print(creport)\n",
    "  plt.show()\n",
    "  \n",
    "\n",
    "print(\"\\n### Report Generator Defined ###\\n\")"
   ]
  },
  {
   "cell_type": "code",
   "execution_count": 8,
   "metadata": {},
   "outputs": [
    {
     "name": "stdout",
     "output_type": "stream",
     "text": [
      "[0.99316249 0.99319202 0.99298392 0.9926569  0.99268662 0.99218123\n",
      " 0.99292446 0.9921515  0.99230015 0.99200285]\n"
     ]
    }
   ],
   "source": [
    "xtrain_df,xtest_df,ytrain_df, ytest_df = train_test_split(res,y, test_size=test_percentage, random_state=48)\n",
    "model1=MultinomialNB()\n",
    "kFold=StratifiedKFold(n_splits=10, random_state=1, shuffle=True)\n",
    "cv_result=cross_val_score(model1,xtrain_df,ytrain_df,cv=kFold,scoring=\"accuracy\")\n",
    "print(cv_result)\n"
   ]
  },
  {
   "cell_type": "code",
   "execution_count": 9,
   "metadata": {},
   "outputs": [
    {
     "name": "stdout",
     "output_type": "stream",
     "text": [
      "              precision    recall  f1-score   support\n",
      "\n",
      "         bad       0.99      0.99      0.99     28382\n",
      "        good       1.00      0.99      0.99     55711\n",
      "\n",
      "    accuracy                           0.99     84093\n",
      "   macro avg       0.99      0.99      0.99     84093\n",
      "weighted avg       0.99      0.99      0.99     84093\n",
      "\n"
     ]
    },
    {
     "data": {
      "image/png": "[encoded data removed]",
      "text/plain": [
       "<Figure size 360x360 with 2 Axes>"
      ]
     },
     "metadata": {
      "needs_background": "light"
     },
     "output_type": "display_data"
    }
   ],
   "source": [
    "mnb = MultinomialNB()               # Multinomial Naive Bayes\n",
    "mnb.fit(xtrain_df, ytrain_df)\n",
    "prediction = mnb.predict(xtest_df)\n",
    "\n",
    "mnb_score = accuracy_score(ytest_df,prediction)\n",
    "mnb_cmatrix = confusion_matrix(ytest_df,prediction)\n",
    "mnb_creport = classification_report(ytest_df,prediction)\n",
    "\n",
    "generate_report(mnb_cmatrix, mnb_score, mnb_creport)\n"
   ]
  },
  {
   "cell_type": "code",
   "execution_count": 10,
   "metadata": {},
   "outputs": [
    {
     "name": "stderr",
     "output_type": "stream",
     "text": [
      "C:\\Users\\Dell\\anaconda3\\lib\\site-packages\\sklearn\\linear_model\\_logistic.py:762: ConvergenceWarning: lbfgs failed to converge (status=1):\n",
      "STOP: TOTAL NO. of ITERATIONS REACHED LIMIT.\n",
      "\n",
      "Increase the number of iterations (max_iter) or scale the data as shown in:\n",
      "    https://scikit-learn.org/stable/modules/preprocessing.html\n",
      "Please also refer to the documentation for alternative solver options:\n",
      "    https://scikit-learn.org/stable/modules/linear_model.html#logistic-regression\n",
      "  n_iter_i = _check_optimize_result(\n",
      "C:\\Users\\Dell\\anaconda3\\lib\\site-packages\\sklearn\\linear_model\\_logistic.py:762: ConvergenceWarning: lbfgs failed to converge (status=1):\n",
      "STOP: TOTAL NO. of ITERATIONS REACHED LIMIT.\n",
      "\n",
      "Increase the number of iterations (max_iter) or scale the data as shown in:\n",
      "    https://scikit-learn.org/stable/modules/preprocessing.html\n",
      "Please also refer to the documentation for alternative solver options:\n",
      "    https://scikit-learn.org/stable/modules/linear_model.html#logistic-regression\n",
      "  n_iter_i = _check_optimize_result(\n",
      "C:\\Users\\Dell\\anaconda3\\lib\\site-packages\\sklearn\\linear_model\\_logistic.py:762: ConvergenceWarning: lbfgs failed to converge (status=1):\n",
      "STOP: TOTAL NO. of ITERATIONS REACHED LIMIT.\n",
      "\n",
      "Increase the number of iterations (max_iter) or scale the data as shown in:\n",
      "    https://scikit-learn.org/stable/modules/preprocessing.html\n",
      "Please also refer to the documentation for alternative solver options:\n",
      "    https://scikit-learn.org/stable/modules/linear_model.html#logistic-regression\n",
      "  n_iter_i = _check_optimize_result(\n",
      "C:\\Users\\Dell\\anaconda3\\lib\\site-packages\\sklearn\\linear_model\\_logistic.py:762: ConvergenceWarning: lbfgs failed to converge (status=1):\n",
      "STOP: TOTAL NO. of ITERATIONS REACHED LIMIT.\n",
      "\n",
      "Increase the number of iterations (max_iter) or scale the data as shown in:\n",
      "    https://scikit-learn.org/stable/modules/preprocessing.html\n",
      "Please also refer to the documentation for alternative solver options:\n",
      "    https://scikit-learn.org/stable/modules/linear_model.html#logistic-regression\n",
      "  n_iter_i = _check_optimize_result(\n",
      "C:\\Users\\Dell\\anaconda3\\lib\\site-packages\\sklearn\\linear_model\\_logistic.py:762: ConvergenceWarning: lbfgs failed to converge (status=1):\n",
      "STOP: TOTAL NO. of ITERATIONS REACHED LIMIT.\n",
      "\n",
      "Increase the number of iterations (max_iter) or scale the data as shown in:\n",
      "    https://scikit-learn.org/stable/modules/preprocessing.html\n",
      "Please also refer to the documentation for alternative solver options:\n",
      "    https://scikit-learn.org/stable/modules/linear_model.html#logistic-regression\n",
      "  n_iter_i = _check_optimize_result(\n",
      "C:\\Users\\Dell\\anaconda3\\lib\\site-packages\\sklearn\\linear_model\\_logistic.py:762: ConvergenceWarning: lbfgs failed to converge (status=1):\n",
      "STOP: TOTAL NO. of ITERATIONS REACHED LIMIT.\n",
      "\n",
      "Increase the number of iterations (max_iter) or scale the data as shown in:\n",
      "    https://scikit-learn.org/stable/modules/preprocessing.html\n",
      "Please also refer to the documentation for alternative solver options:\n",
      "    https://scikit-learn.org/stable/modules/linear_model.html#logistic-regression\n",
      "  n_iter_i = _check_optimize_result(\n",
      "C:\\Users\\Dell\\anaconda3\\lib\\site-packages\\sklearn\\linear_model\\_logistic.py:762: ConvergenceWarning: lbfgs failed to converge (status=1):\n",
      "STOP: TOTAL NO. of ITERATIONS REACHED LIMIT.\n",
      "\n",
      "Increase the number of iterations (max_iter) or scale the data as shown in:\n",
      "    https://scikit-learn.org/stable/modules/preprocessing.html\n",
      "Please also refer to the documentation for alternative solver options:\n",
      "    https://scikit-learn.org/stable/modules/linear_model.html#logistic-regression\n",
      "  n_iter_i = _check_optimize_result(\n",
      "C:\\Users\\Dell\\anaconda3\\lib\\site-packages\\sklearn\\linear_model\\_logistic.py:762: ConvergenceWarning: lbfgs failed to converge (status=1):\n",
      "STOP: TOTAL NO. of ITERATIONS REACHED LIMIT.\n",
      "\n",
      "Increase the number of iterations (max_iter) or scale the data as shown in:\n",
      "    https://scikit-learn.org/stable/modules/preprocessing.html\n",
      "Please also refer to the documentation for alternative solver options:\n",
      "    https://scikit-learn.org/stable/modules/linear_model.html#logistic-regression\n",
      "  n_iter_i = _check_optimize_result(\n"
     ]
    },
    {
     "name": "stdout",
     "output_type": "stream",
     "text": [
      "[0.98237113 0.982876   0.98364896 0.98350031 0.98269762 0.98180575\n",
      " 0.98332194 0.98376787 0.98272735 0.98231115]\n"
     ]
    },
    {
     "name": "stderr",
     "output_type": "stream",
     "text": [
      "C:\\Users\\Dell\\anaconda3\\lib\\site-packages\\sklearn\\linear_model\\_logistic.py:762: ConvergenceWarning: lbfgs failed to converge (status=1):\n",
      "STOP: TOTAL NO. of ITERATIONS REACHED LIMIT.\n",
      "\n",
      "Increase the number of iterations (max_iter) or scale the data as shown in:\n",
      "    https://scikit-learn.org/stable/modules/preprocessing.html\n",
      "Please also refer to the documentation for alternative solver options:\n",
      "    https://scikit-learn.org/stable/modules/linear_model.html#logistic-regression\n",
      "  n_iter_i = _check_optimize_result(\n"
     ]
    }
   ],
   "source": [
    "# Perform Train/Test split\n",
    "\n",
    "model2=LogisticRegression()\n",
    "kFold=StratifiedKFold(n_splits=10, random_state=1, shuffle=True)\n",
    "cv_result=cross_val_score(model2,xtrain_df,ytrain_df,cv=kFold,scoring=\"accuracy\")\n",
    "print(cv_result)"
   ]
  },
  {
   "cell_type": "code",
   "execution_count": 11,
   "metadata": {},
   "outputs": [
    {
     "name": "stderr",
     "output_type": "stream",
     "text": [
      "C:\\Users\\Dell\\anaconda3\\lib\\site-packages\\sklearn\\linear_model\\_logistic.py:762: ConvergenceWarning: lbfgs failed to converge (status=1):\n",
      "STOP: TOTAL NO. of ITERATIONS REACHED LIMIT.\n",
      "\n",
      "Increase the number of iterations (max_iter) or scale the data as shown in:\n",
      "    https://scikit-learn.org/stable/modules/preprocessing.html\n",
      "Please also refer to the documentation for alternative solver options:\n",
      "    https://scikit-learn.org/stable/modules/linear_model.html#logistic-regression\n",
      "  n_iter_i = _check_optimize_result(\n"
     ]
    },
    {
     "name": "stdout",
     "output_type": "stream",
     "text": [
      "              precision    recall  f1-score   support\n",
      "\n",
      "         bad       0.99      0.96      0.98     28417\n",
      "        good       0.98      1.00      0.99     55676\n",
      "\n",
      "    accuracy                           0.98     84093\n",
      "   macro avg       0.99      0.98      0.98     84093\n",
      "weighted avg       0.98      0.98      0.98     84093\n",
      "\n"
     ]
    },
    {
     "data": {
      "image/png": "[encoded data removed]",
      "text/plain": [
       "<Figure size 360x360 with 2 Axes>"
      ]
     },
     "metadata": {
      "needs_background": "light"
     },
     "output_type": "display_data"
    }
   ],
   "source": [
    "lgs = LogisticRegression()               # Logistic Regression\n",
    "lgs.fit(xtrain_df, ytrain_df)\n",
    "prediction = lgs.predict(xtest_df)\n",
    "\n",
    "lg_score = accuracy_score(ytest_df,prediction)\n",
    "lg_cmatrix = confusion_matrix(ytest_df,prediction)\n",
    "lg_creport = classification_report(ytest_df,prediction)\n",
    "\n",
    "generate_report(lg_cmatrix, lg_score, lg_creport)"
   ]
  },
  {
   "cell_type": "code",
   "execution_count": 12,
   "metadata": {},
   "outputs": [
    {
     "name": "stdout",
     "output_type": "stream",
     "text": [
      "[0.9744634  0.97422481 0.97517615 0.97547344 0.9759491  0.97467075\n",
      " 0.97517615 0.9755329  0.97413562 0.97568154]\n"
     ]
    }
   ],
   "source": [
    "model3=KNeighborsClassifier()\n",
    "kFold=StratifiedKFold(n_splits=10, random_state=1, shuffle=True)\n",
    "cv_result=cross_val_score(model3,xtrain_df,ytrain_df,cv=kFold,scoring=\"accuracy\")\n",
    "print(cv_result)"
   ]
  },
  {
   "cell_type": "code",
   "execution_count": 13,
   "metadata": {},
   "outputs": [
    {
     "name": "stdout",
     "output_type": "stream",
     "text": [
      "              precision    recall  f1-score   support\n",
      "\n",
      "         bad       0.95      0.98      0.97     28417\n",
      "        good       0.99      0.97      0.98     55676\n",
      "\n",
      "    accuracy                           0.98     84093\n",
      "   macro avg       0.97      0.98      0.97     84093\n",
      "weighted avg       0.98      0.98      0.98     84093\n",
      "\n"
     ]
    },
    {
     "data": {
      "image/png": "[encoded data removed]",
      "text/plain": [
       "<Figure size 360x360 with 2 Axes>"
      ]
     },
     "metadata": {
      "needs_background": "light"
     },
     "output_type": "display_data"
    }
   ],
   "source": [
    "knn = KNeighborsClassifier()               # KNeighborsClassifier\n",
    "knn.fit(xtrain_df, ytrain_df)\n",
    "prediction = knn.predict(xtest_df)\n",
    "\n",
    "knn_score = accuracy_score(ytest_df,prediction)\n",
    "knn_cmatrix = confusion_matrix(ytest_df,prediction)\n",
    "knn_creport = classification_report(ytest_df,prediction)\n",
    "\n",
    "generate_report(knn_cmatrix, knn_score, knn_creport)"
   ]
  },
  {
   "cell_type": "code",
   "execution_count": 14,
   "metadata": {},
   "outputs": [
    {
     "name": "stdout",
     "output_type": "stream",
     "text": [
      "[0.98879244 0.9883759  0.99027856 0.98840562 0.99060558 0.98885156\n",
      " 0.9890894  0.98941642 0.98920831 0.98947587]\n"
     ]
    }
   ],
   "source": [
    "model4=DecisionTreeClassifier()\n",
    "kFold=StratifiedKFold(n_splits=10, random_state=1, shuffle=True)\n",
    "cv_result=cross_val_score(model4,xtrain_df,ytrain_df,cv=kFold,scoring=\"accuracy\")\n",
    "print(cv_result)"
   ]
  },
  {
   "cell_type": "code",
   "execution_count": 15,
   "metadata": {},
   "outputs": [
    {
     "name": "stdout",
     "output_type": "stream",
     "text": [
      "              precision    recall  f1-score   support\n",
      "\n",
      "         bad       0.98      0.99      0.99     28417\n",
      "        good       0.99      0.99      0.99     55676\n",
      "\n",
      "    accuracy                           0.99     84093\n",
      "   macro avg       0.99      0.99      0.99     84093\n",
      "weighted avg       0.99      0.99      0.99     84093\n",
      "\n"
     ]
    },
    {
     "data": {
      "image/png": "[encoded data removed]",
      "text/plain": [
       "<Figure size 360x360 with 2 Axes>"
      ]
     },
     "metadata": {
      "needs_background": "light"
     },
     "output_type": "display_data"
    }
   ],
   "source": [
    "dtc = DecisionTreeClassifier()               # Decision Tree Classifier\n",
    "dtc.fit(xtrain_df, ytrain_df)\n",
    "prediction = dtc.predict(xtest_df)\n",
    "\n",
    "dtc_score = accuracy_score(ytest_df,prediction)\n",
    "dtc_cmatrix = confusion_matrix(ytest_df,prediction)\n",
    "dtc_creport = classification_report(ytest_df,prediction)\n",
    "\n",
    "generate_report(dtc_cmatrix, dtc_score, dtc_creport)"
   ]
  },
  {
   "cell_type": "code",
   "execution_count": 10,
   "metadata": {},
   "outputs": [
    {
     "name": "stdout",
     "output_type": "stream",
     "text": [
      "###Model Saved###\n"
     ]
    }
   ],
   "source": [
    "vectorizer_save = vectorizer_tf        # saving vectorizer to a variable\n",
    "import pickle\n",
    "file = \"pickel_model.pkl\"\n",
    "with open(file, 'wb') as f:\n",
    "    pickle.dump(mnb, f)              # pickle file for our trained model\n",
    "f.close()\n",
    " \n",
    "file2 = \"pickel_vector.pkl\"\n",
    "with open(file2,'wb') as f2:\n",
    "    pickle.dump(vectorizer_save, f2) # pickle file for vectorizer\n",
    "f2.close()\n",
    "\n",
    "print(\"###Model Saved###\")"
   ]
  },
  {
   "cell_type": "code",
   "execution_count": 11,
   "metadata": {},
   "outputs": [
    {
     "name": "stdout",
     "output_type": "stream",
     "text": [
      "## Model Loaded ##\n"
     ]
    }
   ],
   "source": [
    "#Loading Model\n",
    "import pickle\n",
    "file = \"pickel_model.pkl\"\n",
    "with open(file, 'rb') as f1:  \n",
    "    final_model = pickle.load(f1)          # loading model\n",
    "f1.close()\n",
    " \n",
    "file = \"pickel_vector.pkl\"\n",
    "with open(file, 'rb') as f2:  \n",
    "    final_vectorizer = pickle.load(f2)   # loading vectorizer\n",
    "f2.close()\n",
    "\n",
    "print(\"## Model Loaded ##\")"
   ]
  },
  {
   "cell_type": "code",
   "execution_count": 16,
   "metadata": {},
   "outputs": [
    {
     "name": "stdout",
     "output_type": "stream",
     "text": [
      "['bad']\n"
     ]
    }
   ],
   "source": [
    "x_predict = ['facebok.com']\n",
    "x_predict = final_vectorizer.transform(x_predict)\n",
    "y_predict = final_model.predict(x_predict)\n",
    "print (y_predict)"
   ]
  }
 ],
 "metadata": {
  "kernelspec": {
   "display_name": "Python 3",
   "language": "python",
   "name": "python3"
  },
  "language_info": {
   "codemirror_mode": {
    "name": "ipython",
    "version": 3
   },
   "file_extension": ".py",
   "mimetype": "text/x-python",
   "name": "python",
   "nbconvert_exporter": "python",
   "pygments_lexer": "ipython3",
   "version": "3.8.3"
  }
 },
 "nbformat": 4,
 "nbformat_minor": 4
}
